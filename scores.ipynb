{
 "cells": [
  {
   "cell_type": "code",
   "execution_count": 12,
   "metadata": {},
   "outputs": [],
   "source": [
    "import matplotlib.pyplot as plt\n",
    "import numpy as np\n",
    "\n",
    "import torch\n",
    "import torchvision\n",
    "import torchvision.transforms as transforms\n",
    "import torch.nn as nn\n",
    "import torch.nn.functional as F\n",
    "import torch.optim as optim\n",
    "from torch.utils.data import random_split\n",
    "from opacus import PrivacyEngine\n",
    "\n",
    "from resnet_gn import ResNetGN18\n",
    "\n",
    "device = torch.device(f'cuda' if torch.cuda.is_available() else 'cpu') "
   ]
  },
  {
   "cell_type": "code",
   "execution_count": null,
   "metadata": {},
   "outputs": [
    {
     "data": {
      "text/plain": [
       "(50000, 10000)"
      ]
     },
     "execution_count": 11,
     "metadata": {},
     "output_type": "execute_result"
    }
   ],
   "source": [
    "transform_test = transforms.Compose([\n",
    "    transforms.ToTensor(),\n",
    "    transforms.Normalize((0.5, 0.5, 0.5), (0.5, 0.5, 0.5)),\n",
    "])\n",
    "\n",
    "cifar10 = torchvision.datasets.CIFAR10(root='./data', train=True, download=False, transform=transform_test)\n",
    "trainloader = torch.utils.data.DataLoader(cifar10, batch_size=128,shuffle=False)\n",
    "\n",
    "test = torchvision.datasets.CIFAR10(root='./data', train=False, download=False, transform=transform_test)\n",
    "testloader = torch.utils.data.DataLoader(test, batch_size=128,shuffle=False)\n",
    "len(cifar10), len(test)"
   ]
  },
  {
   "cell_type": "code",
   "execution_count": 5,
   "metadata": {},
   "outputs": [],
   "source": [
    "import pandas as pd"
   ]
  },
  {
   "cell_type": "code",
   "execution_count": 6,
   "metadata": {},
   "outputs": [],
   "source": [
    "def load_scores_from_dir(score_dir):\n",
    "    scores = pd.DataFrame()\n",
    "    for i in range(10):\n",
    "        score_path = f'./curv_scores/{score_dir}/epoch_{(i+1)*4}_scores.pt'\n",
    "        scores[f'Epoch {(i+1) * 10}'] = torch.load(score_path, weights_only=True).numpy()\n",
    "    scores['Mean Score'] = scores.mean(axis=1)\n",
    "    return scores"
   ]
  },
  {
   "cell_type": "code",
   "execution_count": 7,
   "metadata": {},
   "outputs": [
    {
     "data": {
      "text/html": [
       "<div>\n",
       "<style scoped>\n",
       "    .dataframe tbody tr th:only-of-type {\n",
       "        vertical-align: middle;\n",
       "    }\n",
       "\n",
       "    .dataframe tbody tr th {\n",
       "        vertical-align: top;\n",
       "    }\n",
       "\n",
       "    .dataframe thead th {\n",
       "        text-align: right;\n",
       "    }\n",
       "</style>\n",
       "<table border=\"1\" class=\"dataframe\">\n",
       "  <thead>\n",
       "    <tr style=\"text-align: right;\">\n",
       "      <th></th>\n",
       "      <th>Epoch 10</th>\n",
       "      <th>Epoch 20</th>\n",
       "      <th>Epoch 30</th>\n",
       "      <th>Epoch 40</th>\n",
       "      <th>Epoch 50</th>\n",
       "      <th>Epoch 60</th>\n",
       "      <th>Epoch 70</th>\n",
       "      <th>Epoch 80</th>\n",
       "      <th>Epoch 90</th>\n",
       "      <th>Epoch 100</th>\n",
       "      <th>Mean Score</th>\n",
       "    </tr>\n",
       "  </thead>\n",
       "  <tbody>\n",
       "    <tr>\n",
       "      <th>0</th>\n",
       "      <td>0.000395</td>\n",
       "      <td>0.000848</td>\n",
       "      <td>0.001562</td>\n",
       "      <td>0.005626</td>\n",
       "      <td>7.373449e-05</td>\n",
       "      <td>0.003897</td>\n",
       "      <td>1.056842e-04</td>\n",
       "      <td>4.233517e-03</td>\n",
       "      <td>1.798784e-03</td>\n",
       "      <td>1.805653e-03</td>\n",
       "      <td>0.002035</td>\n",
       "    </tr>\n",
       "    <tr>\n",
       "      <th>1</th>\n",
       "      <td>0.000038</td>\n",
       "      <td>0.000037</td>\n",
       "      <td>0.000037</td>\n",
       "      <td>0.000003</td>\n",
       "      <td>1.563671e-05</td>\n",
       "      <td>0.000008</td>\n",
       "      <td>2.742983e-06</td>\n",
       "      <td>2.158309e-05</td>\n",
       "      <td>3.770253e-06</td>\n",
       "      <td>3.692100e-06</td>\n",
       "      <td>0.000017</td>\n",
       "    </tr>\n",
       "    <tr>\n",
       "      <th>2</th>\n",
       "      <td>0.000213</td>\n",
       "      <td>0.001148</td>\n",
       "      <td>0.002460</td>\n",
       "      <td>0.001311</td>\n",
       "      <td>1.403520e-03</td>\n",
       "      <td>0.000316</td>\n",
       "      <td>1.607568e-05</td>\n",
       "      <td>7.864768e-04</td>\n",
       "      <td>1.264754e-03</td>\n",
       "      <td>1.053206e-04</td>\n",
       "      <td>0.000902</td>\n",
       "    </tr>\n",
       "    <tr>\n",
       "      <th>3</th>\n",
       "      <td>0.000610</td>\n",
       "      <td>0.000038</td>\n",
       "      <td>0.000236</td>\n",
       "      <td>0.000341</td>\n",
       "      <td>6.729361e-05</td>\n",
       "      <td>0.000083</td>\n",
       "      <td>1.661113e-04</td>\n",
       "      <td>1.845123e-05</td>\n",
       "      <td>3.260997e-06</td>\n",
       "      <td>7.243918e-07</td>\n",
       "      <td>0.000156</td>\n",
       "    </tr>\n",
       "    <tr>\n",
       "      <th>4</th>\n",
       "      <td>0.000270</td>\n",
       "      <td>0.000035</td>\n",
       "      <td>0.000024</td>\n",
       "      <td>0.000002</td>\n",
       "      <td>2.606614e-07</td>\n",
       "      <td>0.000009</td>\n",
       "      <td>8.752781e-07</td>\n",
       "      <td>1.481802e-07</td>\n",
       "      <td>9.990397e-08</td>\n",
       "      <td>9.733709e-08</td>\n",
       "      <td>0.000034</td>\n",
       "    </tr>\n",
       "  </tbody>\n",
       "</table>\n",
       "</div>"
      ],
      "text/plain": [
       "   Epoch 10  Epoch 20  Epoch 30  Epoch 40      Epoch 50  Epoch 60  \\\n",
       "0  0.000395  0.000848  0.001562  0.005626  7.373449e-05  0.003897   \n",
       "1  0.000038  0.000037  0.000037  0.000003  1.563671e-05  0.000008   \n",
       "2  0.000213  0.001148  0.002460  0.001311  1.403520e-03  0.000316   \n",
       "3  0.000610  0.000038  0.000236  0.000341  6.729361e-05  0.000083   \n",
       "4  0.000270  0.000035  0.000024  0.000002  2.606614e-07  0.000009   \n",
       "\n",
       "       Epoch 70      Epoch 80      Epoch 90     Epoch 100  Mean Score  \n",
       "0  1.056842e-04  4.233517e-03  1.798784e-03  1.805653e-03    0.002035  \n",
       "1  2.742983e-06  2.158309e-05  3.770253e-06  3.692100e-06    0.000017  \n",
       "2  1.607568e-05  7.864768e-04  1.264754e-03  1.053206e-04    0.000902  \n",
       "3  1.661113e-04  1.845123e-05  3.260997e-06  7.243918e-07    0.000156  \n",
       "4  8.752781e-07  1.481802e-07  9.990397e-08  9.733709e-08    0.000034  "
      ]
     },
     "execution_count": 7,
     "metadata": {},
     "output_type": "execute_result"
    }
   ],
   "source": [
    "standard_scores = load_scores_from_dir('standard')\n",
    "standard_scores.head()"
   ]
  },
  {
   "cell_type": "code",
   "execution_count": 8,
   "metadata": {},
   "outputs": [
    {
     "data": {
      "text/html": [
       "<div>\n",
       "<style scoped>\n",
       "    .dataframe tbody tr th:only-of-type {\n",
       "        vertical-align: middle;\n",
       "    }\n",
       "\n",
       "    .dataframe tbody tr th {\n",
       "        vertical-align: top;\n",
       "    }\n",
       "\n",
       "    .dataframe thead th {\n",
       "        text-align: right;\n",
       "    }\n",
       "</style>\n",
       "<table border=\"1\" class=\"dataframe\">\n",
       "  <thead>\n",
       "    <tr style=\"text-align: right;\">\n",
       "      <th></th>\n",
       "      <th>Epoch 10</th>\n",
       "      <th>Epoch 20</th>\n",
       "      <th>Epoch 30</th>\n",
       "      <th>Epoch 40</th>\n",
       "      <th>Epoch 50</th>\n",
       "      <th>Epoch 60</th>\n",
       "      <th>Epoch 70</th>\n",
       "      <th>Epoch 80</th>\n",
       "      <th>Epoch 90</th>\n",
       "      <th>Epoch 100</th>\n",
       "      <th>Mean Score</th>\n",
       "    </tr>\n",
       "  </thead>\n",
       "  <tbody>\n",
       "    <tr>\n",
       "      <th>0</th>\n",
       "      <td>0.000184</td>\n",
       "      <td>0.000218</td>\n",
       "      <td>0.000242</td>\n",
       "      <td>0.000313</td>\n",
       "      <td>0.000320</td>\n",
       "      <td>0.000280</td>\n",
       "      <td>0.000226</td>\n",
       "      <td>0.000291</td>\n",
       "      <td>0.000138</td>\n",
       "      <td>0.000276</td>\n",
       "      <td>0.000249</td>\n",
       "    </tr>\n",
       "    <tr>\n",
       "      <th>1</th>\n",
       "      <td>0.000217</td>\n",
       "      <td>0.000271</td>\n",
       "      <td>0.000245</td>\n",
       "      <td>0.000245</td>\n",
       "      <td>0.000235</td>\n",
       "      <td>0.000198</td>\n",
       "      <td>0.000179</td>\n",
       "      <td>0.000267</td>\n",
       "      <td>0.000154</td>\n",
       "      <td>0.000240</td>\n",
       "      <td>0.000225</td>\n",
       "    </tr>\n",
       "    <tr>\n",
       "      <th>2</th>\n",
       "      <td>0.000129</td>\n",
       "      <td>0.000196</td>\n",
       "      <td>0.000132</td>\n",
       "      <td>0.000186</td>\n",
       "      <td>0.000223</td>\n",
       "      <td>0.000140</td>\n",
       "      <td>0.000125</td>\n",
       "      <td>0.000167</td>\n",
       "      <td>0.000100</td>\n",
       "      <td>0.000178</td>\n",
       "      <td>0.000157</td>\n",
       "    </tr>\n",
       "    <tr>\n",
       "      <th>3</th>\n",
       "      <td>0.000217</td>\n",
       "      <td>0.000285</td>\n",
       "      <td>0.000263</td>\n",
       "      <td>0.000279</td>\n",
       "      <td>0.000450</td>\n",
       "      <td>0.000330</td>\n",
       "      <td>0.000285</td>\n",
       "      <td>0.000312</td>\n",
       "      <td>0.000150</td>\n",
       "      <td>0.000382</td>\n",
       "      <td>0.000295</td>\n",
       "    </tr>\n",
       "    <tr>\n",
       "      <th>4</th>\n",
       "      <td>0.000158</td>\n",
       "      <td>0.000298</td>\n",
       "      <td>0.000237</td>\n",
       "      <td>0.000272</td>\n",
       "      <td>0.000262</td>\n",
       "      <td>0.000207</td>\n",
       "      <td>0.000182</td>\n",
       "      <td>0.000205</td>\n",
       "      <td>0.000194</td>\n",
       "      <td>0.000314</td>\n",
       "      <td>0.000233</td>\n",
       "    </tr>\n",
       "  </tbody>\n",
       "</table>\n",
       "</div>"
      ],
      "text/plain": [
       "   Epoch 10  Epoch 20  Epoch 30  Epoch 40  Epoch 50  Epoch 60  Epoch 70  \\\n",
       "0  0.000184  0.000218  0.000242  0.000313  0.000320  0.000280  0.000226   \n",
       "1  0.000217  0.000271  0.000245  0.000245  0.000235  0.000198  0.000179   \n",
       "2  0.000129  0.000196  0.000132  0.000186  0.000223  0.000140  0.000125   \n",
       "3  0.000217  0.000285  0.000263  0.000279  0.000450  0.000330  0.000285   \n",
       "4  0.000158  0.000298  0.000237  0.000272  0.000262  0.000207  0.000182   \n",
       "\n",
       "   Epoch 80  Epoch 90  Epoch 100  Mean Score  \n",
       "0  0.000291  0.000138   0.000276    0.000249  \n",
       "1  0.000267  0.000154   0.000240    0.000225  \n",
       "2  0.000167  0.000100   0.000178    0.000157  \n",
       "3  0.000312  0.000150   0.000382    0.000295  \n",
       "4  0.000205  0.000194   0.000314    0.000233  "
      ]
     },
     "execution_count": 8,
     "metadata": {},
     "output_type": "execute_result"
    }
   ],
   "source": [
    "eps10_scores = load_scores_from_dir('eps10')\n",
    "eps10_scores.head()"
   ]
  },
  {
   "cell_type": "code",
   "execution_count": 20,
   "metadata": {},
   "outputs": [
    {
     "name": "stdout",
     "output_type": "stream",
     "text": [
      "saved\n"
     ]
    }
   ],
   "source": [
    "net = ResNetGN18()\n",
    "net.load_state_dict(torch.load('./eps10/epoch_4.pth', weights_only=True), strict=False)\n",
    "net.to(device)\n",
    "print('saved')"
   ]
  },
  {
   "cell_type": "code",
   "execution_count": 21,
   "metadata": {},
   "outputs": [
    {
     "name": "stdout",
     "output_type": "stream",
     "text": [
      "Accuracy of the network on the train images: 10 %\n"
     ]
    }
   ],
   "source": [
    "correct = 0\n",
    "total = 0\n",
    "with torch.no_grad():\n",
    "    for data in trainloader:\n",
    "        images, labels = data\n",
    "        images, labels = images.to(device), labels.to(device)\n",
    "        outputs = net(images)\n",
    "        _, predicted = torch.max(outputs.data, 1)\n",
    "        total += labels.size(0)\n",
    "        correct += (predicted == labels).sum().item()\n",
    "\n",
    "print('Accuracy of the network on the train images: %d %%' % (\n",
    "    100 * correct / total))"
   ]
  },
  {
   "cell_type": "code",
   "execution_count": 22,
   "metadata": {},
   "outputs": [
    {
     "name": "stdout",
     "output_type": "stream",
     "text": [
      "Accuracy of the network on the test images: 10 %\n"
     ]
    }
   ],
   "source": [
    "correct = 0\n",
    "total = 0\n",
    "with torch.no_grad():\n",
    "    for data in testloader:\n",
    "        images, labels = data\n",
    "        images, labels = images.to(device), labels.to(device)\n",
    "        outputs = net(images)\n",
    "        _, predicted = torch.max(outputs.data, 1)\n",
    "        total += labels.size(0)\n",
    "        correct += (predicted == labels).sum().item()\n",
    "\n",
    "print('Accuracy of the network on the test images: %d %%' % (\n",
    "    100 * correct / total))"
   ]
  },
  {
   "cell_type": "code",
   "execution_count": 25,
   "metadata": {},
   "outputs": [
    {
     "data": {
      "image/png": "[encoded data removed]",
      "text/plain": [
       "<Figure size 640x480 with 1 Axes>"
      ]
     },
     "metadata": {},
     "output_type": "display_data"
    }
   ],
   "source": [
    "plt.hist(standard_scores['Mean Score'], bins=50)\n",
    "plt.title('Standard Mean Scores')\n",
    "plt.show()"
   ]
  },
  {
   "cell_type": "code",
   "execution_count": 26,
   "metadata": {},
   "outputs": [
    {
     "data": {
      "image/png": "[encoded data removed]",
      "text/plain": [
       "<Figure size 640x480 with 1 Axes>"
      ]
     },
     "metadata": {},
     "output_type": "display_data"
    }
   ],
   "source": [
    "plt.hist(eps10_scores['Mean Score'], bins=50)\n",
    "plt.title('Epsilon 10 Mean Scores')\n",
    "plt.show()"
   ]
  },
  {
   "cell_type": "code",
   "execution_count": 27,
   "metadata": {},
   "outputs": [],
   "source": [
    "combined_df = pd.DataFrame({\n",
    "    'std': standard_scores['Mean Score'],\n",
    "    'e10': eps10_scores['Mean Score']\n",
    "})\n",
    "\n",
    "combined_df['diff'] = combined_df['e10'] - combined_df['std']"
   ]
  },
  {
   "cell_type": "code",
   "execution_count": 28,
   "metadata": {},
   "outputs": [
    {
     "data": {
      "image/png": "[encoded data removed]",
      "text/plain": [
       "<Figure size 640x480 with 1 Axes>"
      ]
     },
     "metadata": {},
     "output_type": "display_data"
    }
   ],
   "source": [
    "plt.hist(combined_df['diff'], bins=50)\n",
    "plt.title('Absolute Diff')\n",
    "plt.show()"
   ]
  },
  {
   "cell_type": "code",
   "execution_count": 30,
   "metadata": {},
   "outputs": [],
   "source": [
    "combined_df['std rank'] = combined_df['std'].rank(ascending=False)\n",
    "combined_df['e10 rank'] = combined_df['e10'].rank(ascending=False)\n",
    "combined_df['rank diff'] = combined_df['e10 rank'] - combined_df['std rank']"
   ]
  },
  {
   "cell_type": "code",
   "execution_count": 31,
   "metadata": {},
   "outputs": [
    {
     "data": {
      "image/png": "[encoded data removed]",
      "text/plain": [
       "<Figure size 640x480 with 1 Axes>"
      ]
     },
     "metadata": {},
     "output_type": "display_data"
    }
   ],
   "source": [
    "plt.hist(combined_df['rank diff'], bins=10)\n",
    "plt.title('Rank Diff')\n",
    "plt.show()"
   ]
  },
  {
   "cell_type": "code",
   "execution_count": 32,
   "metadata": {},
   "outputs": [],
   "source": [
    "def spearman(rankx, ranky):\n",
    "    total = 0\n",
    "    n = len(rankx)\n",
    "    for i in range(n):\n",
    "        total += (rankx[i] - ranky[i]) ** 2\n",
    "    return 1 - 6 * total / (n * (n ** 2 - 1))"
   ]
  },
  {
   "cell_type": "code",
   "execution_count": 33,
   "metadata": {},
   "outputs": [
    {
     "data": {
      "text/plain": [
       "np.float64(0.18180190801605678)"
      ]
     },
     "execution_count": 33,
     "metadata": {},
     "output_type": "execute_result"
    }
   ],
   "source": [
    "spearman(combined_df['std rank'].to_numpy(), combined_df['e10 rank'].to_numpy())"
   ]
  },
  {
   "cell_type": "code",
   "execution_count": null,
   "metadata": {},
   "outputs": [],
   "source": []
  }
 ],
 "metadata": {
  "kernelspec": {
   "display_name": "base",
   "language": "python",
   "name": "python3"
  },
  "language_info": {
   "codemirror_mode": {
    "name": "ipython",
    "version": 3
   },
   "file_extension": ".py",
   "mimetype": "text/x-python",
   "name": "python",
   "nbconvert_exporter": "python",
   "pygments_lexer": "ipython3",
   "version": "3.12.3"
  }
 },
 "nbformat": 4,
 "nbformat_minor": 2
}
